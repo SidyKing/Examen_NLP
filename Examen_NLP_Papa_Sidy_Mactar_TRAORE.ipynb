{
  "nbformat": 4,
  "nbformat_minor": 0,
  "metadata": {
    "colab": {
      "provenance": []
    },
    "kernelspec": {
      "name": "python3",
      "display_name": "Python 3"
    },
    "language_info": {
      "name": "python"
    }
  },
  "cells": [
    {
      "cell_type": "markdown",
      "source": [
        "# EXAMEN NLP M2 SIR"
      ],
      "metadata": {
        "id": "KNFfKUQQU5y9"
      }
    },
    {
      "cell_type": "markdown",
      "source": [
        "### Papa Sidy Mactar TRAORE M1 SI"
      ],
      "metadata": {
        "id": "rYZRpzfPVMuR"
      }
    },
    {
      "cell_type": "markdown",
      "source": [
        "## I- Questions de cours"
      ],
      "metadata": {
        "id": "IKGtB4paVY3W"
      }
    },
    {
      "cell_type": "markdown",
      "source": [
        "### a. Qu'est-ce que le NLP (traitement automatique du langage naturel) et en quoi est-il important dans le domaine de l'informatique ?"
      ],
      "metadata": {
        "id": "Oqh_A7LZa41k"
      }
    },
    {
      "cell_type": "markdown",
      "source": [
        "Le traitement automatique du langage naturel (NLP) est un domaine de l'informatique, de l'intelligence artificielle et de la linguistique computationnelle qui s'intéresse aux interactions entre les ordinateurs et les langues humaines (naturelles). Il vise à permettre aux ordinateurs de comprendre, d'interpréter et de générer du texte en langage naturel d'une manière qui soit significative. Le traitement automatique du langage naturel (NLP) est crucial dans le domaine de l'informatique pour plusieurs raisons :\n",
        "\n",
        "- Compréhension profonde du langage : Les systèmes NLP sont conçus pour identifier et comprendre la structure et le sens des mots, des phrases, des textes et des conversations. Ils doivent avoir une compréhension profonde et large du langage pour être utiles.\n",
        "\n",
        "- Facilitation de la communication : Le NLP vise à construire des systèmes qui aident les humains à communiquer plus efficacement. Cela peut être entre eux ou avec des dispositifs électroniques. Par exemple, grâce au NLP, nous pouvons avoir des assistants virtuels qui comprennent nos demandes vocales et y répondent.\n",
        "\n",
        "- Systèmes utiles : Le NLP permet de développer des systèmes utiles tels que la classification de textes, la synthèse automatique de textes, la reconnaissance vocale, et bien d'autres applications qui facilitent notre quotidien.\n",
        "\n",
        "- - Briser les barrières linguistiques : Avec le NLP, il est possible de communiquer sans barrière linguistique. Les systèmes de traduction automatique, par exemple, permettent de traduire instantanément du texte ou de la parole d'une langue à une autre.\n",
        "\n",
        "- Modélisation et analyse des propriétés du langage : Le NLP permet également de modéliser et d'analyser les propriétés intrinsèques du langage, ce qui est essentiel pour comprendre comment les humains utilisent le langage pour communiquer."
      ],
      "metadata": {
        "id": "iu2p-CvVakC5"
      }
    },
    {
      "cell_type": "markdown",
      "source": [
        "### b. Quelles sont les principales étapes du traitement du langage naturel ? Expliquez brièvement chacune d'entre elles."
      ],
      "metadata": {
        "id": "M3xGI2UubOwD"
      }
    },
    {
      "cell_type": "markdown",
      "source": [
        "Les principales étapes du traitement du langage naturel (NLP) sont souvent regroupées dans ce que l'on appelle le \"NLP Pipeline\".\n",
        "\n",
        "- Tokenisation : C'est le processus de découpage du texte en unités plus petites, appelées tokens. Chaque mot, phrase ou autre unité significative est considéré comme un token.\n",
        "\n",
        "- Lemmatisation : Cette étape permet de garder la racine du mot, regroupant ainsi plusieurs variantes d'un même mot en une seule forme canonique. Par exemple, \"courant\" et \"couru\" peuvent être réduits à la racine \"cour\".\n",
        "\n",
        "- Stopwords : Il s'agit de mots couramment utilisés qui sont généralement ignorés lors de l'analyse car ils n'apportent pas de valeur significative (ex : \"et\", \"le\", \"à\").\n",
        "\n",
        "- Morphologie : Cette étape se concentre sur la structure des mots, identifiant des éléments tels que les racines, les préfixes et les suffixes.\n",
        "\n",
        "- Bag of Words (Sac de mots) : C'est une représentation du texte où chaque mot est représenté par un indicateur (souvent une fréquence) dans un vecteur. Les informations sur l'ordre des mots sont généralement perdues.\n",
        "\n",
        "- Étiquetage grammatical (POS tagging) : Chaque mot est étiqueté avec sa partie du discours (nom, verbe, adjectif, etc.).\n",
        "\n",
        "- Analyse syntaxique : Cette étape vise à déterminer la structure grammaticale d'une phrase, en identifiant les sujets, les objets, etc.\n",
        "\n",
        "- Analyse sémantique : Ici, on détermine le sens des mots dans le contexte et la signification globale de la phrase.\n",
        "\n",
        "- Analyse du discours : Cette étape se concentre sur la compréhension de l'ensemble du discours ou du texte, en identifiant comment les phrases s'articulent entre elles.\n",
        "\n",
        "- Reconnaissance d'entités nommées : Identification et classification des entités (noms propres, lieux, dates, etc.) dans le texte.\n",
        "\n",
        "- Désambiguïsation lexicale : Sélection du sens approprié d'un mot basé sur le contexte.\n",
        "\n",
        "- Analyse des sentiments : Détermination de l'émotion ou de l'opinion exprimée dans le texte.\n",
        "\n",
        "- Traduction automatique, génération de texte, etc. : Ces étapes avancées utilisent toutes les informations précédemment extraites pour accomplir des tâches spécifiques."
      ],
      "metadata": {
        "id": "ezxWNbgZbWbB"
      }
    },
    {
      "cell_type": "markdown",
      "source": [
        "### c. Quelles sont les principales applications du NLP dans le monde réel ? Donnez des exemples concrets."
      ],
      "metadata": {
        "id": "ZfX-IfGScuGH"
      }
    },
    {
      "cell_type": "markdown",
      "source": [
        "Les principales applications du traitement du langage naturel (NLP) dans le monde réel comprennent :\n",
        "\n",
        "- Systèmes de réponse aux questions : Ces systèmes sont conçus pour répondre aux questions posées en langage naturel. Ils sont souvent utilisés dans les assistants virtuels et les chatbots. Par exemple, des plateformes comme Siri, Alexa ou Google Assistant utilisent le NLP pour comprendre et répondre aux requêtes des utilisateurs.\n",
        "\n",
        "- Classification de texte : Le NLP permet de catégoriser automatiquement des textes dans différentes classes ou catégories. Cela est utile, par exemple, pour trier des emails, classer des articles de presse par sujet, ou encore pour la modération de contenu.\n",
        "\n",
        "- Résumé automatique de texte : Cette application vise à produire un résumé concis d'un texte plus long, en conservant les informations principales.\n",
        "\n",
        "- Traduction automatique : Le NLP est à la base des systèmes de traduction comme Google Translate, qui traduisent du texte d'une langue à une autre.\n",
        "\n",
        "- Reconnaissance vocale : Le NLP permet de convertir la parole en texte, et est utilisé dans des applications comme la dictée vocale ou la commande vocale.\n",
        "\n",
        "- Assistants personnels numériques : Ces systèmes, comme Siri ou Alexa, utilisent le NLP pour comprendre les requêtes vocales des utilisateurs et y répondre.\n",
        "\n",
        "- Analyse des sentiments : Le NLP est utilisé pour déterminer si un texte exprime un sentiment positif, négatif ou neutre. C'est particulièrement utile pour les entreprises qui souhaitent surveiller la perception de leur marque sur les réseaux sociaux.\n",
        "\n",
        "- Correction orthographique et grammaticale : Des outils comme Grammarly utilisent le NLP pour détecter et corriger les erreurs dans le texte.\n",
        "\n",
        "- Recherche d'information : Le NLP améliore la pertinence des résultats de recherche en comprenant le contexte et la signification des requêtes.\n",
        "\n",
        "- Chatbots et agents de service client : Ces systèmes interagissent avec les utilisateurs en langage naturel pour répondre à leurs questions ou résoudre leurs problèmes.\n",
        "\n"
      ],
      "metadata": {
        "id": "yLHeUneFdJIP"
      }
    },
    {
      "cell_type": "markdown",
      "source": [
        "### d. Quels sont les défis courants auxquels les modèles de NLP sont confrontés ? Comment le biais peut-il affecter ces modèles ?"
      ],
      "metadata": {
        "id": "RKyKPvO-dhIl"
      }
    },
    {
      "cell_type": "markdown",
      "source": [
        "Les défis courants auxquels les modèles de NLP sont confrontés comprennent :\n",
        "\n",
        "- Ambiguïté : Les langues sont naturellement ambiguës. Un même mot ou une même phrase peut avoir plusieurs significations en fonction du contexte. Par exemple, le mot \"banque\" peut désigner une institution financière ou le bord d'une rivière.\n",
        "\n",
        "- Variabilité : Il existe de nombreuses façons d'exprimer la même idée ou le même sentiment en langage naturel. Les gens utilisent différents styles, dialectes, argots et structures grammaticales pour communiquer la même information.\n",
        "\n",
        "- Langage non statique : Le langage évolue constamment. De nouveaux mots, expressions et argots sont régulièrement ajoutés à la langue. Par exemple, des mots comme \"google\" sont devenus des verbes, et des expressions comme \"#TBT\" (throwback Thursday) ou \"DM\" (direct message) ont acquis des significations spécifiques avec l'essor des médias sociaux.\n",
        "\n",
        "Les modèles de NLP peuvent hériter des biais présents dans les données sur lesquelles ils sont formés, ce qui peut conduire à des résultats inéquitables ou incorrects."
      ],
      "metadata": {
        "id": "hJ7dtwvndkws"
      }
    },
    {
      "cell_type": "markdown",
      "source": [
        "### e. Comment évaluez-vous la performance d'un modèle de NLP ? Quelles sont les métriques couramment utilisées ?"
      ],
      "metadata": {
        "id": "S3LA974UdsDC"
      }
    },
    {
      "cell_type": "markdown",
      "source": [
        "L'évaluation de la performance d'un modèle de NLP dépend de la tâche spécifique pour laquelle le modèle est conçu. Voici quelques méthodes couramment utilisées pour évaluer différents types de modèles de NLP :\n",
        "\n",
        "- Précision, Rappel et Score F1 : Ces métriques sont couramment utilisées pour évaluer les modèles de classification. La précision mesure la proportion de prédictions positives qui sont réellement positives, le rappel mesure la proportion de vrais positifs qui sont correctement identifiés, et le score F1 est la moyenne harmonique de la précision et du rappel.\n",
        "\n",
        "- Erreur quadratique moyenne (MSE) : Pour les tâches de régression, comme la prédiction du score de sentiment, le MSE mesure la différence entre les valeurs prédites et les valeurs réelles.\n",
        "\n",
        "- BLEU, ROUGE, METEOR : Ces métriques sont utilisées pour évaluer les modèles de traduction automatique ou de génération de texte. Elles comparent la sortie du modèle à une ou plusieurs références pour déterminer la qualité de la traduction ou du texte généré.\n",
        "\n",
        "- Perplexité : Utilisée pour évaluer les modèles de langage, la perplexité mesure la capacité du modèle à prédire l'échantillon de test. Une faible perplexité indique que le modèle est bon pour prédire l'échantillon.\n",
        "\n",
        "- Taux d'erreur de mot (WER) : Pour les modèles de reconnaissance vocale, le WER mesure le nombre de mots mal reconnus par rapport au nombre total de mots.\n",
        "\n",
        "- Évaluation qualitative : Parfois, une évaluation qualitative est nécessaire, où des humains évaluent la qualité ou la pertinence des sorties du modèle. Cela peut être particulièrement utile pour des tâches comme la génération de texte ou la réponse aux questions.\n",
        "\n",
        "- Courbes ROC et AUC : Ces métriques évaluent la performance des modèles de classification en fonction de différents seuils de décision."
      ],
      "metadata": {
        "id": "01v75_Dzdvez"
      }
    },
    {
      "cell_type": "markdown",
      "source": [
        "## II. Modélisation"
      ],
      "metadata": {
        "id": "EkQZKFyUdvBT"
      }
    },
    {
      "cell_type": "markdown",
      "source": [
        "### 1. télécharger les données sur les avis des clients dans un restaurant"
      ],
      "metadata": {
        "id": "faUSIj_Dd2wE"
      }
    },
    {
      "cell_type": "code",
      "source": [
        "import numpy as np\n",
        "import pandas as pd"
      ],
      "metadata": {
        "id": "swmlqSbZVe1k"
      },
      "execution_count": null,
      "outputs": []
    },
    {
      "cell_type": "code",
      "source": [
        "df = pd.read_csv(\"/content/Restaurant_Reviews.tsv\",delimiter='\\t');\n",
        "df.head()"
      ],
      "metadata": {
        "colab": {
          "base_uri": "https://localhost:8080/",
          "height": 206
        },
        "id": "txfsvC16WVYJ",
        "outputId": "ee892b76-5823-471a-bc4c-4d7275b077e5"
      },
      "execution_count": null,
      "outputs": [
        {
          "output_type": "execute_result",
          "data": {
            "text/plain": [
              "                                              Review  Liked\n",
              "0                           Wow... Loved this place.      1\n",
              "1                                 Crust is not good.      0\n",
              "2          Not tasty and the texture was just nasty.      0\n",
              "3  Stopped by during the late May bank holiday of...      1\n",
              "4  The selection on the menu was great and so wer...      1"
            ],
            "text/html": [
              "\n",
              "  <div id=\"df-f3ad57a2-bdb2-4ca8-a986-d3535fc4f86b\" class=\"colab-df-container\">\n",
              "    <div>\n",
              "<style scoped>\n",
              "    .dataframe tbody tr th:only-of-type {\n",
              "        vertical-align: middle;\n",
              "    }\n",
              "\n",
              "    .dataframe tbody tr th {\n",
              "        vertical-align: top;\n",
              "    }\n",
              "\n",
              "    .dataframe thead th {\n",
              "        text-align: right;\n",
              "    }\n",
              "</style>\n",
              "<table border=\"1\" class=\"dataframe\">\n",
              "  <thead>\n",
              "    <tr style=\"text-align: right;\">\n",
              "      <th></th>\n",
              "      <th>Review</th>\n",
              "      <th>Liked</th>\n",
              "    </tr>\n",
              "  </thead>\n",
              "  <tbody>\n",
              "    <tr>\n",
              "      <th>0</th>\n",
              "      <td>Wow... Loved this place.</td>\n",
              "      <td>1</td>\n",
              "    </tr>\n",
              "    <tr>\n",
              "      <th>1</th>\n",
              "      <td>Crust is not good.</td>\n",
              "      <td>0</td>\n",
              "    </tr>\n",
              "    <tr>\n",
              "      <th>2</th>\n",
              "      <td>Not tasty and the texture was just nasty.</td>\n",
              "      <td>0</td>\n",
              "    </tr>\n",
              "    <tr>\n",
              "      <th>3</th>\n",
              "      <td>Stopped by during the late May bank holiday of...</td>\n",
              "      <td>1</td>\n",
              "    </tr>\n",
              "    <tr>\n",
              "      <th>4</th>\n",
              "      <td>The selection on the menu was great and so wer...</td>\n",
              "      <td>1</td>\n",
              "    </tr>\n",
              "  </tbody>\n",
              "</table>\n",
              "</div>\n",
              "    <div class=\"colab-df-buttons\">\n",
              "\n",
              "  <div class=\"colab-df-container\">\n",
              "    <button class=\"colab-df-convert\" onclick=\"convertToInteractive('df-f3ad57a2-bdb2-4ca8-a986-d3535fc4f86b')\"\n",
              "            title=\"Convert this dataframe to an interactive table.\"\n",
              "            style=\"display:none;\">\n",
              "\n",
              "  <svg xmlns=\"http://www.w3.org/2000/svg\" height=\"24px\" viewBox=\"0 -960 960 960\">\n",
              "    <path d=\"M120-120v-720h720v720H120Zm60-500h600v-160H180v160Zm220 220h160v-160H400v160Zm0 220h160v-160H400v160ZM180-400h160v-160H180v160Zm440 0h160v-160H620v160ZM180-180h160v-160H180v160Zm440 0h160v-160H620v160Z\"/>\n",
              "  </svg>\n",
              "    </button>\n",
              "\n",
              "  <style>\n",
              "    .colab-df-container {\n",
              "      display:flex;\n",
              "      gap: 12px;\n",
              "    }\n",
              "\n",
              "    .colab-df-convert {\n",
              "      background-color: #E8F0FE;\n",
              "      border: none;\n",
              "      border-radius: 50%;\n",
              "      cursor: pointer;\n",
              "      display: none;\n",
              "      fill: #1967D2;\n",
              "      height: 32px;\n",
              "      padding: 0 0 0 0;\n",
              "      width: 32px;\n",
              "    }\n",
              "\n",
              "    .colab-df-convert:hover {\n",
              "      background-color: #E2EBFA;\n",
              "      box-shadow: 0px 1px 2px rgba(60, 64, 67, 0.3), 0px 1px 3px 1px rgba(60, 64, 67, 0.15);\n",
              "      fill: #174EA6;\n",
              "    }\n",
              "\n",
              "    .colab-df-buttons div {\n",
              "      margin-bottom: 4px;\n",
              "    }\n",
              "\n",
              "    [theme=dark] .colab-df-convert {\n",
              "      background-color: #3B4455;\n",
              "      fill: #D2E3FC;\n",
              "    }\n",
              "\n",
              "    [theme=dark] .colab-df-convert:hover {\n",
              "      background-color: #434B5C;\n",
              "      box-shadow: 0px 1px 3px 1px rgba(0, 0, 0, 0.15);\n",
              "      filter: drop-shadow(0px 1px 2px rgba(0, 0, 0, 0.3));\n",
              "      fill: #FFFFFF;\n",
              "    }\n",
              "  </style>\n",
              "\n",
              "    <script>\n",
              "      const buttonEl =\n",
              "        document.querySelector('#df-f3ad57a2-bdb2-4ca8-a986-d3535fc4f86b button.colab-df-convert');\n",
              "      buttonEl.style.display =\n",
              "        google.colab.kernel.accessAllowed ? 'block' : 'none';\n",
              "\n",
              "      async function convertToInteractive(key) {\n",
              "        const element = document.querySelector('#df-f3ad57a2-bdb2-4ca8-a986-d3535fc4f86b');\n",
              "        const dataTable =\n",
              "          await google.colab.kernel.invokeFunction('convertToInteractive',\n",
              "                                                    [key], {});\n",
              "        if (!dataTable) return;\n",
              "\n",
              "        const docLinkHtml = 'Like what you see? Visit the ' +\n",
              "          '<a target=\"_blank\" href=https://colab.research.google.com/notebooks/data_table.ipynb>data table notebook</a>'\n",
              "          + ' to learn more about interactive tables.';\n",
              "        element.innerHTML = '';\n",
              "        dataTable['output_type'] = 'display_data';\n",
              "        await google.colab.output.renderOutput(dataTable, element);\n",
              "        const docLink = document.createElement('div');\n",
              "        docLink.innerHTML = docLinkHtml;\n",
              "        element.appendChild(docLink);\n",
              "      }\n",
              "    </script>\n",
              "  </div>\n",
              "\n",
              "\n",
              "<div id=\"df-d12a0068-b9d6-48bd-9f6f-2bebf045b059\">\n",
              "  <button class=\"colab-df-quickchart\" onclick=\"quickchart('df-d12a0068-b9d6-48bd-9f6f-2bebf045b059')\"\n",
              "            title=\"Suggest charts.\"\n",
              "            style=\"display:none;\">\n",
              "\n",
              "<svg xmlns=\"http://www.w3.org/2000/svg\" height=\"24px\"viewBox=\"0 0 24 24\"\n",
              "     width=\"24px\">\n",
              "    <g>\n",
              "        <path d=\"M19 3H5c-1.1 0-2 .9-2 2v14c0 1.1.9 2 2 2h14c1.1 0 2-.9 2-2V5c0-1.1-.9-2-2-2zM9 17H7v-7h2v7zm4 0h-2V7h2v10zm4 0h-2v-4h2v4z\"/>\n",
              "    </g>\n",
              "</svg>\n",
              "  </button>\n",
              "\n",
              "<style>\n",
              "  .colab-df-quickchart {\n",
              "      --bg-color: #E8F0FE;\n",
              "      --fill-color: #1967D2;\n",
              "      --hover-bg-color: #E2EBFA;\n",
              "      --hover-fill-color: #174EA6;\n",
              "      --disabled-fill-color: #AAA;\n",
              "      --disabled-bg-color: #DDD;\n",
              "  }\n",
              "\n",
              "  [theme=dark] .colab-df-quickchart {\n",
              "      --bg-color: #3B4455;\n",
              "      --fill-color: #D2E3FC;\n",
              "      --hover-bg-color: #434B5C;\n",
              "      --hover-fill-color: #FFFFFF;\n",
              "      --disabled-bg-color: #3B4455;\n",
              "      --disabled-fill-color: #666;\n",
              "  }\n",
              "\n",
              "  .colab-df-quickchart {\n",
              "    background-color: var(--bg-color);\n",
              "    border: none;\n",
              "    border-radius: 50%;\n",
              "    cursor: pointer;\n",
              "    display: none;\n",
              "    fill: var(--fill-color);\n",
              "    height: 32px;\n",
              "    padding: 0;\n",
              "    width: 32px;\n",
              "  }\n",
              "\n",
              "  .colab-df-quickchart:hover {\n",
              "    background-color: var(--hover-bg-color);\n",
              "    box-shadow: 0 1px 2px rgba(60, 64, 67, 0.3), 0 1px 3px 1px rgba(60, 64, 67, 0.15);\n",
              "    fill: var(--button-hover-fill-color);\n",
              "  }\n",
              "\n",
              "  .colab-df-quickchart-complete:disabled,\n",
              "  .colab-df-quickchart-complete:disabled:hover {\n",
              "    background-color: var(--disabled-bg-color);\n",
              "    fill: var(--disabled-fill-color);\n",
              "    box-shadow: none;\n",
              "  }\n",
              "\n",
              "  .colab-df-spinner {\n",
              "    border: 2px solid var(--fill-color);\n",
              "    border-color: transparent;\n",
              "    border-bottom-color: var(--fill-color);\n",
              "    animation:\n",
              "      spin 1s steps(1) infinite;\n",
              "  }\n",
              "\n",
              "  @keyframes spin {\n",
              "    0% {\n",
              "      border-color: transparent;\n",
              "      border-bottom-color: var(--fill-color);\n",
              "      border-left-color: var(--fill-color);\n",
              "    }\n",
              "    20% {\n",
              "      border-color: transparent;\n",
              "      border-left-color: var(--fill-color);\n",
              "      border-top-color: var(--fill-color);\n",
              "    }\n",
              "    30% {\n",
              "      border-color: transparent;\n",
              "      border-left-color: var(--fill-color);\n",
              "      border-top-color: var(--fill-color);\n",
              "      border-right-color: var(--fill-color);\n",
              "    }\n",
              "    40% {\n",
              "      border-color: transparent;\n",
              "      border-right-color: var(--fill-color);\n",
              "      border-top-color: var(--fill-color);\n",
              "    }\n",
              "    60% {\n",
              "      border-color: transparent;\n",
              "      border-right-color: var(--fill-color);\n",
              "    }\n",
              "    80% {\n",
              "      border-color: transparent;\n",
              "      border-right-color: var(--fill-color);\n",
              "      border-bottom-color: var(--fill-color);\n",
              "    }\n",
              "    90% {\n",
              "      border-color: transparent;\n",
              "      border-bottom-color: var(--fill-color);\n",
              "    }\n",
              "  }\n",
              "</style>\n",
              "\n",
              "  <script>\n",
              "    async function quickchart(key) {\n",
              "      const quickchartButtonEl =\n",
              "        document.querySelector('#' + key + ' button');\n",
              "      quickchartButtonEl.disabled = true;  // To prevent multiple clicks.\n",
              "      quickchartButtonEl.classList.add('colab-df-spinner');\n",
              "      try {\n",
              "        const charts = await google.colab.kernel.invokeFunction(\n",
              "            'suggestCharts', [key], {});\n",
              "      } catch (error) {\n",
              "        console.error('Error during call to suggestCharts:', error);\n",
              "      }\n",
              "      quickchartButtonEl.classList.remove('colab-df-spinner');\n",
              "      quickchartButtonEl.classList.add('colab-df-quickchart-complete');\n",
              "    }\n",
              "    (() => {\n",
              "      let quickchartButtonEl =\n",
              "        document.querySelector('#df-d12a0068-b9d6-48bd-9f6f-2bebf045b059 button');\n",
              "      quickchartButtonEl.style.display =\n",
              "        google.colab.kernel.accessAllowed ? 'block' : 'none';\n",
              "    })();\n",
              "  </script>\n",
              "</div>\n",
              "    </div>\n",
              "  </div>\n"
            ]
          },
          "metadata": {},
          "execution_count": 6
        }
      ]
    },
    {
      "cell_type": "markdown",
      "source": [
        "### 2. Faire le prétraitement de ces données et expliquer l’importance de chaque étape"
      ],
      "metadata": {
        "id": "v21EyLVmg4Ql"
      }
    },
    {
      "cell_type": "code",
      "source": [
        "print(df.columns)\n",
        "print(df.shape)\n",
        "print(df.isna().sum())"
      ],
      "metadata": {
        "colab": {
          "base_uri": "https://localhost:8080/"
        },
        "id": "Q2H4PLQLhZ1c",
        "outputId": "390d4d9d-f92b-4a90-9b77-e8c9774dfeea"
      },
      "execution_count": null,
      "outputs": [
        {
          "output_type": "stream",
          "name": "stdout",
          "text": [
            "Index(['Review', 'Liked'], dtype='object')\n",
            "(1000, 2)\n",
            "Review    0\n",
            "Liked     0\n",
            "dtype: int64\n"
          ]
        }
      ]
    },
    {
      "cell_type": "code",
      "source": [
        "import spacy\n",
        "import nltk\n",
        "from nltk.corpus import stopwords\n",
        "from nltk.stem import WordNetLemmatizer\n",
        "from nltk.corpus.reader import wordnet\n",
        "from nltk import pos_tag\n",
        "from string import punctuation"
      ],
      "metadata": {
        "id": "vtuUHoefWirb"
      },
      "execution_count": 37,
      "outputs": []
    },
    {
      "cell_type": "code",
      "source": [
        "# Chargement du modèle spacy\n",
        "nlp = spacy.load('en_core_web_sm')"
      ],
      "metadata": {
        "id": "m-Owksz4hHhk"
      },
      "execution_count": 38,
      "outputs": []
    },
    {
      "cell_type": "code",
      "source": [
        "# Téléchargement des ressources nécessaires\n",
        "nltk.download('stopwords')\n",
        "nltk.download('wordnet')\n",
        "stop_words = set(stopwords.words('english'))"
      ],
      "metadata": {
        "colab": {
          "base_uri": "https://localhost:8080/"
        },
        "id": "UUo4kxQ8kapq",
        "outputId": "2d08923b-5bf0-4a0a-ab11-17341d338ffc"
      },
      "execution_count": 39,
      "outputs": [
        {
          "output_type": "stream",
          "name": "stderr",
          "text": [
            "[nltk_data] Downloading package stopwords to /root/nltk_data...\n",
            "[nltk_data]   Package stopwords is already up-to-date!\n",
            "[nltk_data] Downloading package wordnet to /root/nltk_data...\n",
            "[nltk_data]   Package wordnet is already up-to-date!\n"
          ]
        }
      ]
    },
    {
      "cell_type": "code",
      "source": [
        "from nltk.stem.snowball import SnowballStemmer\n",
        "from nltk.stem import WordNetLemmatizer"
      ],
      "metadata": {
        "id": "8Q1m5PSEoXgX"
      },
      "execution_count": 40,
      "outputs": []
    },
    {
      "cell_type": "code",
      "source": [
        "# Fonction de prétraitement\n",
        "def preprocess(text):\n",
        "    # Tokenisation\n",
        "    tokens = [i.text for i in nlp(text)]\n",
        "\n",
        "    # Suppression de la ponctuation\n",
        "    tokens_no_punct = [token for token in tokens if token not in punctuation]\n",
        "\n",
        "    # Suppression des stopwords\n",
        "    tokens_no_stopwords = [token for token in tokens_no_punct if token not in stop_words]\n",
        "\n",
        "    # Lemmatisation avec POS tagging\n",
        "    lemmatizer = WordNetLemmatizer()\n",
        "    lemmatized_tokens = [lemmatizer.lemmatize(i) for i in tokens_no_stopwords]\n",
        "\n",
        "    # Stemming\n",
        "    stemmer = SnowballStemmer(\"english\")\n",
        "    stemmed_tokens = [stemmer.stem(token) for token in lemmatized_tokens]\n",
        "\n",
        "    return ' '.join(stemmed_tokens)"
      ],
      "metadata": {
        "id": "httZJPr4n7Ak"
      },
      "execution_count": 45,
      "outputs": []
    },
    {
      "cell_type": "code",
      "source": [
        "df['Processed_Review'] = df['Review'].apply(preprocess)"
      ],
      "metadata": {
        "id": "iD6Z11QSo47E"
      },
      "execution_count": 46,
      "outputs": []
    },
    {
      "cell_type": "code",
      "source": [
        "df['Processed_Review'].head()"
      ],
      "metadata": {
        "colab": {
          "base_uri": "https://localhost:8080/"
        },
        "id": "XV1FyKJQpey6",
        "outputId": "90e5f278-264e-4268-fe76-58b399dfbd7a"
      },
      "execution_count": 47,
      "outputs": [
        {
          "output_type": "execute_result",
          "data": {
            "text/plain": [
              "0                                       wow love place\n",
              "1                                           crust good\n",
              "2                                   tasti textur nasti\n",
              "3    stop late may bank holiday rick steve recommen...\n",
              "4                              select menu great price\n",
              "Name: Processed_Review, dtype: object"
            ]
          },
          "metadata": {},
          "execution_count": 47
        }
      ]
    },
    {
      "cell_type": "markdown",
      "source": [
        "Explications :\n",
        "- Tokenisation :\n",
        "C'est le processus de découpage du texte en unités plus petites, appelées tokens. Chaque mot, phrase ou autre unité significative est considéré comme un token. Cette étape est essentielle car elle transforme le texte brut en une liste de mots qui peuvent être analysés et traités.\n",
        "\n",
        "- Lemmatisation :\n",
        "Elle permet de garder la racine du mot, regroupant ainsi plusieurs variantes d'un même mot en une seule forme canonique. Par exemple, \"courant\" et \"couru\" peuvent être réduits à la racine \"cour\". La lemmatisation est préférable au stemming car elle tient compte du contexte et convertit le mot en sa forme de base significative.\n",
        "\n",
        "- Stopwords :\n",
        "Il s'agit de mots couramment utilisés qui sont généralement ignorés lors de l'analyse car ils n'apportent pas de valeur significative (ex : \"et\", \"le\", \"à\"). Leur suppression réduit la dimensionnalité des données et accélère le processus d'entraînement.\n",
        "\n",
        "- Morphologie :\n",
        "Cette étape se concentre sur la structure des mots, identifiant des éléments tels que les racines, les préfixes et les suffixes. Elle aide à comprendre la formation des mots et peut être utilisée pour extraire des caractéristiques pertinentes du texte.\n",
        "\n",
        "- Bag of Words (Sac de mots) :\n",
        "C'est une représentation du texte où chaque mot est représenté par un indicateur (souvent une fréquence) dans un vecteur. Les informations sur l'ordre des mots sont généralement perdues. Cette technique transforme le texte en une forme numérique qui peut être utilisée pour entraîner des modèles."
      ],
      "metadata": {
        "id": "vjktWaAYinSM"
      }
    },
    {
      "cell_type": "code",
      "source": [
        "from sklearn.model_selection import train_test_split\n",
        "from sklearn.linear_model import LogisticRegression\n",
        "from sklearn.feature_extraction.text import CountVectorizer"
      ],
      "metadata": {
        "id": "zMHkAwBMhIaB"
      },
      "execution_count": 48,
      "outputs": []
    },
    {
      "cell_type": "code",
      "source": [
        "# Appliquer le prétraitement à toutes les critiques\n",
        "df['Processed_Review'] = df['Review'].apply(preprocess)\n",
        "\n",
        "# Conversion des critiques prétraitées en représentation Bag of Words\n",
        "cv = CountVectorizer()\n",
        "X = cv.fit_transform(df['Processed_Review']).toarray()\n",
        "y = df['Liked'].values\n",
        "\n",
        "# Division des données en ensembles d'entraînement et de test\n",
        "X_train, X_test, y_train, y_test = train_test_split(X, y, test_size=0.2, random_state=0)\n"
      ],
      "metadata": {
        "id": "V7ssAwQzmgi9"
      },
      "execution_count": 49,
      "outputs": []
    },
    {
      "cell_type": "markdown",
      "source": [
        "### 3. Proposer un modèle en expliquant sa structure, son architecture et son fonctionnement"
      ],
      "metadata": {
        "id": "0GUj9n9XkGCs"
      }
    },
    {
      "cell_type": "code",
      "source": [
        "# Initialisation et entraînement du modèle\n",
        "classifier = LogisticRegression(random_state=0)"
      ],
      "metadata": {
        "id": "L5eFlPJ3mlI_"
      },
      "execution_count": 50,
      "outputs": []
    },
    {
      "cell_type": "markdown",
      "source": [
        "- Structure et Architecture :\n",
        "\n",
        "La régression logistique est un modèle statistique utilisé pour prédire la probabilité d'une variable dépendante catégorielle. Dans le contexte de la classification binaire, la variable dépendante peut prendre deux valeurs : 0 ou 1.\n",
        "\n",
        "L'architecture de la régression logistique est simple. Elle prend en entrée des caractéristiques (dans notre cas, les mots ou les tokens du texte) et les pèse à l'aide de coefficients pour produire une somme pondérée. Cette somme est ensuite passée à travers une fonction logistique (ou sigmoïde) pour produire une sortie entre 0 et 1.\n",
        "\n",
        "- Fonctionnement :\n",
        "\n",
        "Somme pondérée : La première étape consiste à calculer une somme pondérée des caractéristiques.\n",
        "\n",
        "Fonction Sigmoïde : La somme pondérée est ensuite passée à travers la fonction sigmoïde pour la contraindre entre 0 et 1.\n",
        "Le résultat est une probabilité qui reflète la probabilité que la sortie soit de classe 1.\n",
        "\n",
        "Seuil : Enfin, un seuil (généralement 0,5) est appliqué à la probabilité pour produire une prédiction finale de 0 ou 1.\n",
        "\n",
        "Entraînement : Le modèle est entraîné en utilisant une fonction de coût, généralement la log-perte, pour ajuster les poids et le biais de manière à minimiser l'erreur entre les prédictions et les vraies valeurs.\n",
        "\n"
      ],
      "metadata": {
        "id": "gfo3wu2nroGj"
      }
    },
    {
      "cell_type": "markdown",
      "source": [
        "### 4. Faire l'entrainement du modèle"
      ],
      "metadata": {
        "id": "85a7TbJdqFHi"
      }
    },
    {
      "cell_type": "code",
      "source": [
        "classifier.fit(X_train, y_train)"
      ],
      "metadata": {
        "colab": {
          "base_uri": "https://localhost:8080/",
          "height": 75
        },
        "id": "h_yMFRcHqCNF",
        "outputId": "4a426298-c6ec-4147-afcc-379a74017a35"
      },
      "execution_count": 51,
      "outputs": [
        {
          "output_type": "execute_result",
          "data": {
            "text/plain": [
              "LogisticRegression(random_state=0)"
            ],
            "text/html": [
              "<style>#sk-container-id-1 {color: black;background-color: white;}#sk-container-id-1 pre{padding: 0;}#sk-container-id-1 div.sk-toggleable {background-color: white;}#sk-container-id-1 label.sk-toggleable__label {cursor: pointer;display: block;width: 100%;margin-bottom: 0;padding: 0.3em;box-sizing: border-box;text-align: center;}#sk-container-id-1 label.sk-toggleable__label-arrow:before {content: \"▸\";float: left;margin-right: 0.25em;color: #696969;}#sk-container-id-1 label.sk-toggleable__label-arrow:hover:before {color: black;}#sk-container-id-1 div.sk-estimator:hover label.sk-toggleable__label-arrow:before {color: black;}#sk-container-id-1 div.sk-toggleable__content {max-height: 0;max-width: 0;overflow: hidden;text-align: left;background-color: #f0f8ff;}#sk-container-id-1 div.sk-toggleable__content pre {margin: 0.2em;color: black;border-radius: 0.25em;background-color: #f0f8ff;}#sk-container-id-1 input.sk-toggleable__control:checked~div.sk-toggleable__content {max-height: 200px;max-width: 100%;overflow: auto;}#sk-container-id-1 input.sk-toggleable__control:checked~label.sk-toggleable__label-arrow:before {content: \"▾\";}#sk-container-id-1 div.sk-estimator input.sk-toggleable__control:checked~label.sk-toggleable__label {background-color: #d4ebff;}#sk-container-id-1 div.sk-label input.sk-toggleable__control:checked~label.sk-toggleable__label {background-color: #d4ebff;}#sk-container-id-1 input.sk-hidden--visually {border: 0;clip: rect(1px 1px 1px 1px);clip: rect(1px, 1px, 1px, 1px);height: 1px;margin: -1px;overflow: hidden;padding: 0;position: absolute;width: 1px;}#sk-container-id-1 div.sk-estimator {font-family: monospace;background-color: #f0f8ff;border: 1px dotted black;border-radius: 0.25em;box-sizing: border-box;margin-bottom: 0.5em;}#sk-container-id-1 div.sk-estimator:hover {background-color: #d4ebff;}#sk-container-id-1 div.sk-parallel-item::after {content: \"\";width: 100%;border-bottom: 1px solid gray;flex-grow: 1;}#sk-container-id-1 div.sk-label:hover label.sk-toggleable__label {background-color: #d4ebff;}#sk-container-id-1 div.sk-serial::before {content: \"\";position: absolute;border-left: 1px solid gray;box-sizing: border-box;top: 0;bottom: 0;left: 50%;z-index: 0;}#sk-container-id-1 div.sk-serial {display: flex;flex-direction: column;align-items: center;background-color: white;padding-right: 0.2em;padding-left: 0.2em;position: relative;}#sk-container-id-1 div.sk-item {position: relative;z-index: 1;}#sk-container-id-1 div.sk-parallel {display: flex;align-items: stretch;justify-content: center;background-color: white;position: relative;}#sk-container-id-1 div.sk-item::before, #sk-container-id-1 div.sk-parallel-item::before {content: \"\";position: absolute;border-left: 1px solid gray;box-sizing: border-box;top: 0;bottom: 0;left: 50%;z-index: -1;}#sk-container-id-1 div.sk-parallel-item {display: flex;flex-direction: column;z-index: 1;position: relative;background-color: white;}#sk-container-id-1 div.sk-parallel-item:first-child::after {align-self: flex-end;width: 50%;}#sk-container-id-1 div.sk-parallel-item:last-child::after {align-self: flex-start;width: 50%;}#sk-container-id-1 div.sk-parallel-item:only-child::after {width: 0;}#sk-container-id-1 div.sk-dashed-wrapped {border: 1px dashed gray;margin: 0 0.4em 0.5em 0.4em;box-sizing: border-box;padding-bottom: 0.4em;background-color: white;}#sk-container-id-1 div.sk-label label {font-family: monospace;font-weight: bold;display: inline-block;line-height: 1.2em;}#sk-container-id-1 div.sk-label-container {text-align: center;}#sk-container-id-1 div.sk-container {/* jupyter's `normalize.less` sets `[hidden] { display: none; }` but bootstrap.min.css set `[hidden] { display: none !important; }` so we also need the `!important` here to be able to override the default hidden behavior on the sphinx rendered scikit-learn.org. See: https://github.com/scikit-learn/scikit-learn/issues/21755 */display: inline-block !important;position: relative;}#sk-container-id-1 div.sk-text-repr-fallback {display: none;}</style><div id=\"sk-container-id-1\" class=\"sk-top-container\"><div class=\"sk-text-repr-fallback\"><pre>LogisticRegression(random_state=0)</pre><b>In a Jupyter environment, please rerun this cell to show the HTML representation or trust the notebook. <br />On GitHub, the HTML representation is unable to render, please try loading this page with nbviewer.org.</b></div><div class=\"sk-container\" hidden><div class=\"sk-item\"><div class=\"sk-estimator sk-toggleable\"><input class=\"sk-toggleable__control sk-hidden--visually\" id=\"sk-estimator-id-1\" type=\"checkbox\" checked><label for=\"sk-estimator-id-1\" class=\"sk-toggleable__label sk-toggleable__label-arrow\">LogisticRegression</label><div class=\"sk-toggleable__content\"><pre>LogisticRegression(random_state=0)</pre></div></div></div></div></div>"
            ]
          },
          "metadata": {},
          "execution_count": 51
        }
      ]
    },
    {
      "cell_type": "markdown",
      "source": [
        "### 5. Proposer une mesure évaluation de votre modèle et expliquer les résultats"
      ],
      "metadata": {
        "id": "k0Xi3nX5qOF4"
      }
    },
    {
      "cell_type": "code",
      "source": [
        "from sklearn.metrics import accuracy_score, classification_report\n",
        "\n",
        "# Prédiction sur l'ensemble de test\n",
        "y_pred = classifier.predict(X_test)\n",
        "\n",
        "# Calcul de la précision\n",
        "accuracy = accuracy_score(y_test, y_pred)\n",
        "print(f\"Accuracy: {accuracy*100:.2f}%\")\n",
        "\n",
        "# Rapport de classification\n",
        "report = classification_report(y_test, y_pred)\n",
        "print(report)\n"
      ],
      "metadata": {
        "colab": {
          "base_uri": "https://localhost:8080/"
        },
        "id": "78oGw6bxqEqB",
        "outputId": "a968df84-1f67-4f8d-d40e-7e525cdffec5"
      },
      "execution_count": 52,
      "outputs": [
        {
          "output_type": "stream",
          "name": "stdout",
          "text": [
            "Accuracy: 72.00%\n",
            "              precision    recall  f1-score   support\n",
            "\n",
            "           0       0.69      0.77      0.73        97\n",
            "           1       0.76      0.67      0.71       103\n",
            "\n",
            "    accuracy                           0.72       200\n",
            "   macro avg       0.72      0.72      0.72       200\n",
            "weighted avg       0.72      0.72      0.72       200\n",
            "\n"
          ]
        }
      ]
    },
    {
      "cell_type": "markdown",
      "source": [
        "- Accuracy (Précision) :\n",
        "La précision est de 72,00%. Cela signifie que 72% des prédictions faites par le modèle sur l'ensemble de test étaient correctes. C'est une mesure générale de la performance du modèle.\n",
        "\n",
        "- Precision (Précision) :\n",
        "Pour la classe 0 : 0,69 ou 69%. Cela signifie que, parmi toutes les prédictions où le modèle a prédit la classe 0, 69% étaient effectivement de la classe 0.\n",
        "Pour la classe 1 : 0,76 ou 76%. Cela signifie que, parmi toutes les prédictions où le modèle a prédit la classe 1, 76% étaient effectivement de la classe 1.\n",
        "\n",
        "- Recall (Rappel) :\n",
        "Pour la classe 0 : 0,77 ou 77%. Cela signifie que, parmi tous les vrais exemples de la classe 0 dans l'ensemble de test, le modèle a correctement identifié 77% d'entre eux.\n",
        "Pour la classe 1 : 0,67 ou 67%. Cela signifie que, parmi tous les vrais exemples de la classe 1 dans l'ensemble de test, le modèle a correctement identifié 67% d'entre eux.\n",
        "\n",
        "- F1-Score :\n",
        "Le F1-Score est la moyenne harmonique de la précision et du rappel. Il donne une mesure plus complète des performances du modèle, en tenant compte à la fois de la précision et du rappel.\n",
        "Pour la classe 0 : 0,73 ou 73%.\n",
        "Pour la classe 1 : 0,71 ou 71%.\n",
        "\n",
        "En résumé, votre modèle a une performance générale de 72%. Il semble être légèrement meilleur pour prédire la classe 1 par rapport à la classe 0 en termes de précision, mais son rappel pour la classe 1 est inférieur à celui de la classe 0. Cela pourrait indiquer que le modèle manque certains exemples positifs (classe 1) tout en étant plus prudent lors de la prédiction de la classe positive."
      ],
      "metadata": {
        "id": "nkxT-AtXsqb8"
      }
    },
    {
      "cell_type": "code",
      "source": [],
      "metadata": {
        "id": "5Znb59mlqTz8"
      },
      "execution_count": null,
      "outputs": []
    }
  ]
}